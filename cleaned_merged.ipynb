{
 "cells": [
  {
   "cell_type": "code",
   "execution_count": 1,
   "id": "3121b96b",
   "metadata": {
    "collapsed": true,
    "scrolled": true
   },
   "outputs": [],
   "source": [
    "import pandas as pd"
   ]
  },
  {
   "cell_type": "code",
   "execution_count": 12,
   "id": "73aeef8a",
   "metadata": {
    "collapsed": true,
    "scrolled": false
   },
   "outputs": [],
   "source": [
    "df1 = pd.read_csv('2018_cleaned.csv')\n",
    "df2 = pd.read_csv('2019_cleaned.csv')\n",
    "df3 = pd.read_csv('2020Q1_cleaned.csv')\n",
    "df5 = pd.read_csv('2020Q3_cleaned.csv')\n",
    "df6 = pd.read_csv('2020Q4_cleaned.csv')\n",
    "df7 = pd.read_csv('2021Q1_cleaned.csv')\n",
    "df8 = pd.read_csv('2021Q2_cleaned.csv')\n",
    "df9 = pd.read_csv('2021Q3_cleaned.csv')\n",
    "df10 = pd.read_csv('2021Q4_cleaned.csv')"
   ]
  },
  {
   "cell_type": "code",
   "execution_count": 20,
   "id": "e4092ac5",
   "metadata": {
    "scrolled": false
   },
   "outputs": [
    {
     "data": {
      "text/plain": [
       "Index(['Transformed_wage_rate_of_pay_from', 'transformed_pw_wage',\n",
       "       'CASE_NUMBER', 'CASE_STATUS', 'CASE_SUBMITTED', 'DECISION_DATE',\n",
       "       'VISA_CLASS', 'EMPLOYER_NAME', 'EMPLOYER_ADDRESS', 'EMPLOYER_CITY',\n",
       "       'EMPLOYER_STATE', 'EMPLOYER_POSTAL_CODE', 'JOB_TITLE', 'SOC_CODE',\n",
       "       'SOC_NAME', 'NAICS_CODE', 'FULL_TIME_POSITION', 'PREVAILING_WAGE',\n",
       "       'PW_UNIT_OF_PAY', 'PW_WAGE_LEVEL', 'WAGE_RATE_OF_PAY_FROM',\n",
       "       'WAGE_UNIT_OF_PAY', 'H1B_DEPENDENT'],\n",
       "      dtype='object')"
      ]
     },
     "execution_count": 20,
     "metadata": {},
     "output_type": "execute_result"
    }
   ],
   "source": [
    "df1.columns"
   ]
  },
  {
   "cell_type": "code",
   "execution_count": 25,
   "id": "cf765e19",
   "metadata": {
    "collapsed": true,
    "scrolled": true
   },
   "outputs": [
    {
     "name": "stdout",
     "output_type": "stream",
     "text": [
      "['Transformed_wage_rate_of_pay_from', 'transformed_pw_wage', 'CASE_NUMBER', 'CASE_STATUS', 'CASE_SUBMITTED', 'DECISION_DATE', 'VISA_CLASS', 'EMPLOYER_NAME', 'EMPLOYER_ADDRESS', 'EMPLOYER_CITY', 'EMPLOYER_STATE', 'EMPLOYER_POSTAL_CODE', 'JOB_TITLE', 'SOC_CODE', 'SOC_NAME', 'NAICS_CODE', 'FULL_TIME_POSITION', 'PREVAILING_WAGE', 'PW_UNIT_OF_PAY', 'PW_WAGE_LEVEL', 'WAGE_RATE_OF_PAY_FROM', 'WAGE_UNIT_OF_PAY', 'H1B_DEPENDENT']\n"
     ]
    }
   ],
   "source": [
    "cols = list(df1.columns.values)\n",
    "print(cols)"
   ]
  },
  {
   "cell_type": "markdown",
   "id": "0e82d8a5",
   "metadata": {},
   "source": [
    "## Dataframe 2"
   ]
  },
  {
   "cell_type": "code",
   "execution_count": 60,
   "id": "c6de4ada",
   "metadata": {
    "collapsed": true,
    "scrolled": true
   },
   "outputs": [
    {
     "data": {
      "text/plain": [
       "Index(['transformed_pw_wage', 'Transformed_wage_rate_of_pay_from',\n",
       "       'CASE_NUMBER', 'CASE_STATUS', 'CASE_SUBMITTED', 'DECISION_DATE',\n",
       "       'VISA_CLASS', 'JOB_TITLE', 'SOC_CODE', 'SOC_TITLE',\n",
       "       'FULL_TIME_POSITION', 'EMPLOYER_NAME', 'EMPLOYER_ADDRESS1',\n",
       "       'EMPLOYER_CITY', 'EMPLOYER_STATE', 'EMPLOYER_POSTAL_CODE', 'NAICS_CODE',\n",
       "       'WAGE_RATE_OF_PAY_FROM_1', 'WAGE_UNIT_OF_PAY', 'PREVAILING_WAGE',\n",
       "       'PW_UNIT_OF_PAY', 'PW_WAGE_LEVEL', 'H-1B_DEPENDENT'],\n",
       "      dtype='object')"
      ]
     },
     "execution_count": 60,
     "metadata": {},
     "output_type": "execute_result"
    }
   ],
   "source": [
    "df2.columns"
   ]
  },
  {
   "cell_type": "code",
   "execution_count": 61,
   "id": "333bd190",
   "metadata": {
    "collapsed": true,
    "scrolled": true
   },
   "outputs": [],
   "source": [
    "df2.rename(columns={\"RECEIVED_DATE\": \"CASE_SUBMITTED\",\"EMPLOYER_ADDRESS1\":\"EMPLOYER_ADDRESS\",\"SOC_TITLE\":\"SOC_NAME\",\"H-1B_DEPENDENT\":\"H1B_DEPENDENT\"},inplace=True)"
   ]
  },
  {
   "cell_type": "code",
   "execution_count": 68,
   "id": "51cd2c97",
   "metadata": {
    "collapsed": true,
    "scrolled": true
   },
   "outputs": [],
   "source": [
    "df2.rename(columns={\"WAGE_RATE_OF_PAY_FROM_1\":\"WAGE_RATE_OF_PAY_FROM\"},inplace=True)"
   ]
  },
  {
   "cell_type": "code",
   "execution_count": 69,
   "id": "40296c39",
   "metadata": {
    "collapsed": true,
    "scrolled": true
   },
   "outputs": [],
   "source": [
    "df2 = df2[['Transformed_wage_rate_of_pay_from', 'transformed_pw_wage', 'CASE_NUMBER', 'CASE_STATUS', 'CASE_SUBMITTED', 'DECISION_DATE', 'VISA_CLASS', 'EMPLOYER_NAME', 'EMPLOYER_ADDRESS', 'EMPLOYER_CITY', 'EMPLOYER_STATE', 'EMPLOYER_POSTAL_CODE', 'JOB_TITLE', 'SOC_CODE', 'SOC_NAME', 'NAICS_CODE', 'FULL_TIME_POSITION', 'PREVAILING_WAGE', 'PW_UNIT_OF_PAY', 'PW_WAGE_LEVEL', 'WAGE_RATE_OF_PAY_FROM', 'WAGE_UNIT_OF_PAY', 'H1B_DEPENDENT']]"
   ]
  },
  {
   "cell_type": "code",
   "execution_count": 70,
   "id": "b982e127",
   "metadata": {
    "collapsed": true,
    "scrolled": true
   },
   "outputs": [
    {
     "data": {
      "text/plain": [
       "array([ True,  True,  True,  True,  True,  True,  True,  True,  True,\n",
       "        True,  True,  True,  True,  True,  True,  True,  True,  True,\n",
       "        True,  True,  True,  True,  True])"
      ]
     },
     "execution_count": 70,
     "metadata": {},
     "output_type": "execute_result"
    }
   ],
   "source": [
    "df1.columns==df2.columns"
   ]
  },
  {
   "cell_type": "markdown",
   "id": "a7c9ed93",
   "metadata": {},
   "source": [
    "## Dataframe 3\n"
   ]
  },
  {
   "cell_type": "code",
   "execution_count": 31,
   "id": "8d4b5ecf",
   "metadata": {
    "collapsed": true,
    "scrolled": true
   },
   "outputs": [],
   "source": [
    "df3 = df3[['Transformed_wage_rate_of_pay_from', 'transformed_pw_wage', 'CASE_NUMBER', 'CASE_STATUS', 'CASE_SUBMITTED', 'DECISION_DATE', 'VISA_CLASS', 'EMPLOYER_NAME', 'EMPLOYER_ADDRESS', 'EMPLOYER_CITY', 'EMPLOYER_STATE', 'EMPLOYER_POSTAL_CODE', 'JOB_TITLE', 'SOC_CODE', 'SOC_NAME', 'NAICS_CODE', 'FULL_TIME_POSITION', 'PREVAILING_WAGE', 'PW_UNIT_OF_PAY', 'PW_WAGE_LEVEL', 'WAGE_RATE_OF_PAY_FROM', 'WAGE_UNIT_OF_PAY', 'H1B_DEPENDENT']]"
   ]
  },
  {
   "cell_type": "code",
   "execution_count": 29,
   "id": "e71b0835",
   "metadata": {
    "collapsed": true,
    "scrolled": true
   },
   "outputs": [],
   "source": [
    "df3.rename(columns={\"RECEIVED_DATE\": \"CASE_SUBMITTED\",\"EMPLOYER_ADDRESS1\":\"EMPLOYER_ADDRESS\",\"SOC_TITLE\":\"SOC_NAME\"},inplace=True)"
   ]
  },
  {
   "cell_type": "code",
   "execution_count": 32,
   "id": "64fa8a74",
   "metadata": {
    "collapsed": true,
    "scrolled": true
   },
   "outputs": [
    {
     "data": {
      "text/plain": [
       "array([ True,  True,  True,  True,  True,  True,  True,  True,  True,\n",
       "        True,  True,  True,  True,  True,  True,  True,  True,  True,\n",
       "        True,  True,  True,  True,  True])"
      ]
     },
     "execution_count": 32,
     "metadata": {},
     "output_type": "execute_result"
    }
   ],
   "source": [
    "df1.columns==df3.columns"
   ]
  },
  {
   "cell_type": "markdown",
   "id": "f20ed09a",
   "metadata": {},
   "source": [
    "## Dataframe 4\n"
   ]
  },
  {
   "cell_type": "code",
   "execution_count": 40,
   "id": "2e63d750",
   "metadata": {
    "collapsed": true,
    "scrolled": true
   },
   "outputs": [
    {
     "data": {
      "text/plain": [
       "Index(['Transformed_wage_rate_of_pay_from', 'transformed_pw_wage',\n",
       "       'CASE_NUMBER', 'CASE_STATUS', 'RECEIVED_DATE', 'DECISION_DATE',\n",
       "       'VISA_CLASS', 'JOB_TITLE', 'SOC_CODE', 'SOC_TITLE',\n",
       "       'FULL_TIME_POSITION', 'EMPLOYER_NAME', 'EMPLOYER_ADDRESS1',\n",
       "       'EMPLOYER_CITY', 'EMPLOYER_STATE', 'EMPLOYER_POSTAL_CODE', 'NAICS_CODE',\n",
       "       'WAGE_RATE_OF_PAY_FROM', 'WAGE_UNIT_OF_PAY', 'PREVAILING_WAGE',\n",
       "       'PW_UNIT_OF_PAY', 'PW_WAGE_LEVEL', 'H-1B_DEPENDENT'],\n",
       "      dtype='object')"
      ]
     },
     "execution_count": 40,
     "metadata": {},
     "output_type": "execute_result"
    }
   ],
   "source": [
    "df4.columns"
   ]
  },
  {
   "cell_type": "code",
   "execution_count": 41,
   "id": "a13a0c5d",
   "metadata": {
    "collapsed": true,
    "scrolled": true
   },
   "outputs": [],
   "source": [
    "df4.rename(columns={\"RECEIVED_DATE\": \"CASE_SUBMITTED\",\"EMPLOYER_ADDRESS1\":\"EMPLOYER_ADDRESS\",\"SOC_TITLE\":\"SOC_NAME\",\"H-1B_DEPENDENT\":\"H1B_DEPENDENT\"},inplace=True)"
   ]
  },
  {
   "cell_type": "code",
   "execution_count": 42,
   "id": "26c4b59d",
   "metadata": {
    "collapsed": true,
    "scrolled": true
   },
   "outputs": [],
   "source": [
    "df4 = df4[['Transformed_wage_rate_of_pay_from', 'transformed_pw_wage', 'CASE_NUMBER', 'CASE_STATUS', 'CASE_SUBMITTED', 'DECISION_DATE', 'VISA_CLASS', 'EMPLOYER_NAME', 'EMPLOYER_ADDRESS', 'EMPLOYER_CITY', 'EMPLOYER_STATE', 'EMPLOYER_POSTAL_CODE', 'JOB_TITLE', 'SOC_CODE', 'SOC_NAME', 'NAICS_CODE', 'FULL_TIME_POSITION', 'PREVAILING_WAGE', 'PW_UNIT_OF_PAY', 'PW_WAGE_LEVEL', 'WAGE_RATE_OF_PAY_FROM', 'WAGE_UNIT_OF_PAY', 'H1B_DEPENDENT']]"
   ]
  },
  {
   "cell_type": "code",
   "execution_count": 49,
   "id": "98fdb246",
   "metadata": {
    "collapsed": true,
    "scrolled": true
   },
   "outputs": [
    {
     "data": {
      "text/plain": [
       "array([ True,  True,  True,  True,  True,  True,  True,  True,  True,\n",
       "        True,  True,  True,  True,  True,  True,  True,  True,  True,\n",
       "        True,  True,  True,  True,  True])"
      ]
     },
     "execution_count": 49,
     "metadata": {},
     "output_type": "execute_result"
    }
   ],
   "source": [
    "df1.columns==df4.columns"
   ]
  },
  {
   "cell_type": "markdown",
   "id": "b8fbbb2e",
   "metadata": {},
   "source": [
    "## Dataframe 5"
   ]
  },
  {
   "cell_type": "code",
   "execution_count": 44,
   "id": "e9bf7455",
   "metadata": {
    "collapsed": true,
    "scrolled": true
   },
   "outputs": [
    {
     "data": {
      "text/plain": [
       "Index(['Transformed_wage_rate_of_pay_from', 'transformed_pw_wage',\n",
       "       'CASE_NUMBER', 'CASE_STATUS', 'RECEIVED_DATE', 'DECISION_DATE',\n",
       "       'VISA_CLASS', 'JOB_TITLE', 'SOC_CODE', 'SOC_TITLE',\n",
       "       'FULL_TIME_POSITION', 'EMPLOYER_NAME', 'EMPLOYER_ADDRESS1',\n",
       "       'EMPLOYER_CITY', 'EMPLOYER_STATE', 'EMPLOYER_POSTAL_CODE', 'NAICS_CODE',\n",
       "       'WAGE_RATE_OF_PAY_FROM', 'WAGE_UNIT_OF_PAY', 'PREVAILING_WAGE',\n",
       "       'PW_UNIT_OF_PAY', 'PW_WAGE_LEVEL', 'H-1B_DEPENDENT'],\n",
       "      dtype='object')"
      ]
     },
     "execution_count": 44,
     "metadata": {},
     "output_type": "execute_result"
    }
   ],
   "source": [
    "df5.columns"
   ]
  },
  {
   "cell_type": "code",
   "execution_count": 45,
   "id": "5cdb5209",
   "metadata": {
    "collapsed": true,
    "scrolled": true
   },
   "outputs": [],
   "source": [
    "df5.rename(columns={\"RECEIVED_DATE\": \"CASE_SUBMITTED\",\"EMPLOYER_ADDRESS1\":\"EMPLOYER_ADDRESS\",\"SOC_TITLE\":\"SOC_NAME\",\"H-1B_DEPENDENT\":\"H1B_DEPENDENT\"},inplace=True)"
   ]
  },
  {
   "cell_type": "code",
   "execution_count": 46,
   "id": "52fd70a2",
   "metadata": {
    "collapsed": true,
    "scrolled": true
   },
   "outputs": [],
   "source": [
    "df5 = df5[['Transformed_wage_rate_of_pay_from', 'transformed_pw_wage', 'CASE_NUMBER', 'CASE_STATUS', 'CASE_SUBMITTED', 'DECISION_DATE', 'VISA_CLASS', 'EMPLOYER_NAME', 'EMPLOYER_ADDRESS', 'EMPLOYER_CITY', 'EMPLOYER_STATE', 'EMPLOYER_POSTAL_CODE', 'JOB_TITLE', 'SOC_CODE', 'SOC_NAME', 'NAICS_CODE', 'FULL_TIME_POSITION', 'PREVAILING_WAGE', 'PW_UNIT_OF_PAY', 'PW_WAGE_LEVEL', 'WAGE_RATE_OF_PAY_FROM', 'WAGE_UNIT_OF_PAY', 'H1B_DEPENDENT']]"
   ]
  },
  {
   "cell_type": "code",
   "execution_count": 48,
   "id": "bdeae8fd",
   "metadata": {
    "collapsed": true,
    "scrolled": true
   },
   "outputs": [
    {
     "data": {
      "text/plain": [
       "array([ True,  True,  True,  True,  True,  True,  True,  True,  True,\n",
       "        True,  True,  True,  True,  True,  True,  True,  True,  True,\n",
       "        True,  True,  True,  True,  True])"
      ]
     },
     "execution_count": 48,
     "metadata": {},
     "output_type": "execute_result"
    }
   ],
   "source": [
    "df1.columns==df5.columns"
   ]
  },
  {
   "cell_type": "markdown",
   "id": "5adb4373",
   "metadata": {},
   "source": [
    "## Dataframe 6"
   ]
  },
  {
   "cell_type": "code",
   "execution_count": 50,
   "id": "3c119f78",
   "metadata": {
    "collapsed": true,
    "scrolled": true
   },
   "outputs": [
    {
     "data": {
      "text/plain": [
       "Index(['transformed_pw_wage', 'Transformed_wage_rate_of_pay_from',\n",
       "       'CASE_NUMBER', 'CASE_STATUS', 'RECEIVED_DATE', 'DECISION_DATE',\n",
       "       'VISA_CLASS', 'JOB_TITLE', 'SOC_CODE', 'SOC_TITLE',\n",
       "       'FULL_TIME_POSITION', 'EMPLOYER_NAME', 'EMPLOYER_ADDRESS1',\n",
       "       'EMPLOYER_CITY', 'EMPLOYER_STATE', 'EMPLOYER_POSTAL_CODE', 'NAICS_CODE',\n",
       "       'WAGE_RATE_OF_PAY_FROM', 'WAGE_UNIT_OF_PAY', 'PREVAILING_WAGE',\n",
       "       'PW_UNIT_OF_PAY', 'PW_WAGE_LEVEL', 'H-1B_DEPENDENT'],\n",
       "      dtype='object')"
      ]
     },
     "execution_count": 50,
     "metadata": {},
     "output_type": "execute_result"
    }
   ],
   "source": [
    "df6.columns"
   ]
  },
  {
   "cell_type": "code",
   "execution_count": 51,
   "id": "a27e0962",
   "metadata": {
    "collapsed": true,
    "scrolled": true
   },
   "outputs": [],
   "source": [
    "df6.rename(columns={\"RECEIVED_DATE\": \"CASE_SUBMITTED\",\"EMPLOYER_ADDRESS1\":\"EMPLOYER_ADDRESS\",\"SOC_TITLE\":\"SOC_NAME\",\"H-1B_DEPENDENT\":\"H1B_DEPENDENT\"},inplace=True)"
   ]
  },
  {
   "cell_type": "code",
   "execution_count": 52,
   "id": "ad98c5c0",
   "metadata": {
    "collapsed": true,
    "scrolled": true
   },
   "outputs": [],
   "source": [
    "df6 = df6[['Transformed_wage_rate_of_pay_from', 'transformed_pw_wage', 'CASE_NUMBER', 'CASE_STATUS', 'CASE_SUBMITTED', 'DECISION_DATE', 'VISA_CLASS', 'EMPLOYER_NAME', 'EMPLOYER_ADDRESS', 'EMPLOYER_CITY', 'EMPLOYER_STATE', 'EMPLOYER_POSTAL_CODE', 'JOB_TITLE', 'SOC_CODE', 'SOC_NAME', 'NAICS_CODE', 'FULL_TIME_POSITION', 'PREVAILING_WAGE', 'PW_UNIT_OF_PAY', 'PW_WAGE_LEVEL', 'WAGE_RATE_OF_PAY_FROM', 'WAGE_UNIT_OF_PAY', 'H1B_DEPENDENT']]"
   ]
  },
  {
   "cell_type": "code",
   "execution_count": 54,
   "id": "5cfc939b",
   "metadata": {
    "collapsed": true,
    "scrolled": true
   },
   "outputs": [
    {
     "data": {
      "text/plain": [
       "array([ True,  True,  True,  True,  True,  True,  True,  True,  True,\n",
       "        True,  True,  True,  True,  True,  True,  True,  True,  True,\n",
       "        True,  True,  True,  True,  True])"
      ]
     },
     "execution_count": 54,
     "metadata": {},
     "output_type": "execute_result"
    }
   ],
   "source": [
    "df1.columns==df6.columns"
   ]
  },
  {
   "cell_type": "markdown",
   "id": "542d98cd",
   "metadata": {},
   "source": [
    "## Dataframe 7"
   ]
  },
  {
   "cell_type": "code",
   "execution_count": 55,
   "id": "5f6a821a",
   "metadata": {
    "collapsed": true,
    "scrolled": true
   },
   "outputs": [
    {
     "data": {
      "text/plain": [
       "Index(['transformed_pw_wage', 'Transformed_wage_rate_of_pay_from',\n",
       "       'CASE_NUMBER', 'CASE_STATUS', 'RECEIVED_DATE', 'DECISION_DATE',\n",
       "       'VISA_CLASS', 'JOB_TITLE', 'SOC_CODE', 'SOC_TITLE',\n",
       "       'FULL_TIME_POSITION', 'EMPLOYER_NAME', 'EMPLOYER_ADDRESS1',\n",
       "       'EMPLOYER_CITY', 'EMPLOYER_STATE', 'EMPLOYER_POSTAL_CODE', 'NAICS_CODE',\n",
       "       'WAGE_RATE_OF_PAY_FROM', 'WAGE_UNIT_OF_PAY', 'PREVAILING_WAGE',\n",
       "       'PW_UNIT_OF_PAY', 'PW_WAGE_LEVEL', 'H-1B_DEPENDENT'],\n",
       "      dtype='object')"
      ]
     },
     "execution_count": 55,
     "metadata": {},
     "output_type": "execute_result"
    }
   ],
   "source": [
    "df7.columns"
   ]
  },
  {
   "cell_type": "code",
   "execution_count": 71,
   "id": "dbdad7f7",
   "metadata": {
    "collapsed": true,
    "scrolled": true
   },
   "outputs": [],
   "source": [
    "df7.rename(columns={\"RECEIVED_DATE\": \"CASE_SUBMITTED\",\"EMPLOYER_ADDRESS1\":\"EMPLOYER_ADDRESS\",\"SOC_TITLE\":\"SOC_NAME\",\"H-1B_DEPENDENT\":\"H1B_DEPENDENT\"},inplace=True)"
   ]
  },
  {
   "cell_type": "code",
   "execution_count": 72,
   "id": "c85e4fac",
   "metadata": {
    "collapsed": true,
    "scrolled": true
   },
   "outputs": [],
   "source": [
    "df7 = df7[['Transformed_wage_rate_of_pay_from', 'transformed_pw_wage', 'CASE_NUMBER', 'CASE_STATUS', 'CASE_SUBMITTED', 'DECISION_DATE', 'VISA_CLASS', 'EMPLOYER_NAME', 'EMPLOYER_ADDRESS', 'EMPLOYER_CITY', 'EMPLOYER_STATE', 'EMPLOYER_POSTAL_CODE', 'JOB_TITLE', 'SOC_CODE', 'SOC_NAME', 'NAICS_CODE', 'FULL_TIME_POSITION', 'PREVAILING_WAGE', 'PW_UNIT_OF_PAY', 'PW_WAGE_LEVEL', 'WAGE_RATE_OF_PAY_FROM', 'WAGE_UNIT_OF_PAY', 'H1B_DEPENDENT']]"
   ]
  },
  {
   "cell_type": "code",
   "execution_count": 73,
   "id": "fbb61228",
   "metadata": {
    "collapsed": true,
    "scrolled": true
   },
   "outputs": [
    {
     "data": {
      "text/plain": [
       "array([ True,  True,  True,  True,  True,  True,  True,  True,  True,\n",
       "        True,  True,  True,  True,  True,  True,  True,  True,  True,\n",
       "        True,  True,  True,  True,  True])"
      ]
     },
     "execution_count": 73,
     "metadata": {},
     "output_type": "execute_result"
    }
   ],
   "source": [
    "df1.columns==df7.columns"
   ]
  },
  {
   "cell_type": "markdown",
   "id": "5b9ba117",
   "metadata": {},
   "source": [
    "## Dataframe 8"
   ]
  },
  {
   "cell_type": "code",
   "execution_count": 75,
   "id": "c5d7e9af",
   "metadata": {
    "collapsed": true,
    "scrolled": true
   },
   "outputs": [
    {
     "data": {
      "text/plain": [
       "Index(['transformed_pw_wage', 'Transformed_wage_rate_of_pay_from',\n",
       "       'CASE_NUMBER', 'CASE_STATUS', 'RECEIVED_DATE', 'DECISION_DATE',\n",
       "       'VISA_CLASS', 'JOB_TITLE', 'SOC_CODE', 'SOC_TITLE',\n",
       "       'FULL_TIME_POSITION', 'EMPLOYER_NAME', 'EMPLOYER_ADDRESS1',\n",
       "       'EMPLOYER_CITY', 'EMPLOYER_STATE', 'EMPLOYER_POSTAL_CODE', 'NAICS_CODE',\n",
       "       'WAGE_RATE_OF_PAY_FROM', 'WAGE_UNIT_OF_PAY', 'PREVAILING_WAGE',\n",
       "       'PW_UNIT_OF_PAY', 'PW_WAGE_LEVEL', 'H-1B_DEPENDENT'],\n",
       "      dtype='object')"
      ]
     },
     "execution_count": 75,
     "metadata": {},
     "output_type": "execute_result"
    }
   ],
   "source": [
    "df8.columns"
   ]
  },
  {
   "cell_type": "code",
   "execution_count": 76,
   "id": "aa619208",
   "metadata": {
    "collapsed": true,
    "scrolled": true
   },
   "outputs": [],
   "source": [
    "df8.rename(columns={\"RECEIVED_DATE\": \"CASE_SUBMITTED\",\"EMPLOYER_ADDRESS1\":\"EMPLOYER_ADDRESS\",\"SOC_TITLE\":\"SOC_NAME\",\"H-1B_DEPENDENT\":\"H1B_DEPENDENT\"},inplace=True)"
   ]
  },
  {
   "cell_type": "code",
   "execution_count": 77,
   "id": "7ce65821",
   "metadata": {
    "collapsed": true,
    "scrolled": true
   },
   "outputs": [],
   "source": [
    "df8 = df8[['Transformed_wage_rate_of_pay_from', 'transformed_pw_wage', 'CASE_NUMBER', 'CASE_STATUS', 'CASE_SUBMITTED', 'DECISION_DATE', 'VISA_CLASS', 'EMPLOYER_NAME', 'EMPLOYER_ADDRESS', 'EMPLOYER_CITY', 'EMPLOYER_STATE', 'EMPLOYER_POSTAL_CODE', 'JOB_TITLE', 'SOC_CODE', 'SOC_NAME', 'NAICS_CODE', 'FULL_TIME_POSITION', 'PREVAILING_WAGE', 'PW_UNIT_OF_PAY', 'PW_WAGE_LEVEL', 'WAGE_RATE_OF_PAY_FROM', 'WAGE_UNIT_OF_PAY', 'H1B_DEPENDENT']]"
   ]
  },
  {
   "cell_type": "code",
   "execution_count": 78,
   "id": "3611fd4f",
   "metadata": {
    "collapsed": true,
    "scrolled": true
   },
   "outputs": [
    {
     "data": {
      "text/plain": [
       "array([ True,  True,  True,  True,  True,  True,  True,  True,  True,\n",
       "        True,  True,  True,  True,  True,  True,  True,  True,  True,\n",
       "        True,  True,  True,  True,  True])"
      ]
     },
     "execution_count": 78,
     "metadata": {},
     "output_type": "execute_result"
    }
   ],
   "source": [
    "df1.columns==df8.columns"
   ]
  },
  {
   "cell_type": "markdown",
   "id": "06604a31",
   "metadata": {},
   "source": [
    "## Dataframe 9"
   ]
  },
  {
   "cell_type": "code",
   "execution_count": 81,
   "id": "e2baa47e",
   "metadata": {
    "collapsed": true,
    "scrolled": true
   },
   "outputs": [
    {
     "data": {
      "text/plain": [
       "Index(['transformed_pw_wage', 'Transformed_wage_rate_of_pay_from',\n",
       "       'CASE_NUMBER', 'CASE_STATUS', 'RECEIVED_DATE', 'DECISION_DATE',\n",
       "       'VISA_CLASS', 'JOB_TITLE', 'SOC_CODE', 'SOC_TITLE',\n",
       "       'FULL_TIME_POSITION', 'EMPLOYER_NAME', 'EMPLOYER_ADDRESS1',\n",
       "       'EMPLOYER_CITY', 'EMPLOYER_STATE', 'EMPLOYER_POSTAL_CODE', 'NAICS_CODE',\n",
       "       'WAGE_RATE_OF_PAY_FROM', 'WAGE_UNIT_OF_PAY', 'PREVAILING_WAGE',\n",
       "       'PW_UNIT_OF_PAY', 'PW_WAGE_LEVEL', 'H1B_DEPENDENT'],\n",
       "      dtype='object')"
      ]
     },
     "execution_count": 81,
     "metadata": {},
     "output_type": "execute_result"
    }
   ],
   "source": [
    "df9.columns"
   ]
  },
  {
   "cell_type": "code",
   "execution_count": 82,
   "id": "015bb4f4",
   "metadata": {
    "collapsed": true,
    "scrolled": true
   },
   "outputs": [],
   "source": [
    "df9.rename(columns={\"RECEIVED_DATE\": \"CASE_SUBMITTED\",\"EMPLOYER_ADDRESS1\":\"EMPLOYER_ADDRESS\",\"SOC_TITLE\":\"SOC_NAME\",\"H-1B_DEPENDENT\":\"H1B_DEPENDENT\"},inplace=True)"
   ]
  },
  {
   "cell_type": "code",
   "execution_count": 83,
   "id": "112fdd74",
   "metadata": {
    "collapsed": true,
    "scrolled": true
   },
   "outputs": [],
   "source": [
    "df9 = df9[['Transformed_wage_rate_of_pay_from', 'transformed_pw_wage', 'CASE_NUMBER', 'CASE_STATUS', 'CASE_SUBMITTED', 'DECISION_DATE', 'VISA_CLASS', 'EMPLOYER_NAME', 'EMPLOYER_ADDRESS', 'EMPLOYER_CITY', 'EMPLOYER_STATE', 'EMPLOYER_POSTAL_CODE', 'JOB_TITLE', 'SOC_CODE', 'SOC_NAME', 'NAICS_CODE', 'FULL_TIME_POSITION', 'PREVAILING_WAGE', 'PW_UNIT_OF_PAY', 'PW_WAGE_LEVEL', 'WAGE_RATE_OF_PAY_FROM', 'WAGE_UNIT_OF_PAY', 'H1B_DEPENDENT']]"
   ]
  },
  {
   "cell_type": "code",
   "execution_count": 84,
   "id": "e0d7a522",
   "metadata": {
    "collapsed": true,
    "scrolled": true
   },
   "outputs": [
    {
     "data": {
      "text/plain": [
       "array([ True,  True,  True,  True,  True,  True,  True,  True,  True,\n",
       "        True,  True,  True,  True,  True,  True,  True,  True,  True,\n",
       "        True,  True,  True,  True,  True])"
      ]
     },
     "execution_count": 84,
     "metadata": {},
     "output_type": "execute_result"
    }
   ],
   "source": [
    "df1.columns==df9.columns"
   ]
  },
  {
   "cell_type": "markdown",
   "id": "825bf637",
   "metadata": {},
   "source": [
    "## Dataframe 10"
   ]
  },
  {
   "cell_type": "code",
   "execution_count": 90,
   "id": "33b6b2b5",
   "metadata": {
    "collapsed": true,
    "scrolled": true
   },
   "outputs": [
    {
     "data": {
      "text/plain": [
       "Index(['transformed_pw_wage', 'Transformed_wage_rate_of_pay_from',\n",
       "       'CASE_NUMBER', 'CASE_STATUS', 'RECEIVED_DATE', 'DECISION_DATE',\n",
       "       'VISA_CLASS', 'JOB_TITLE', 'SOC_CODE', 'SOC_TITLE',\n",
       "       'FULL_TIME_POSITION', 'EMPLOYER_NAME', 'EMPLOYER_ADDRESS1',\n",
       "       'EMPLOYER_CITY', 'EMPLOYER_STATE', 'EMPLOYER_POSTAL_CODE', 'NAICS_CODE',\n",
       "       'WAGE_RATE_OF_PAY_FROM', 'WAGE_UNIT_OF_PAY', 'PREVAILING_WAGE',\n",
       "       'PW_UNIT_OF_PAY', 'PW_WAGE_LEVEL', 'H-1B_DEPENDENT'],\n",
       "      dtype='object')"
      ]
     },
     "execution_count": 90,
     "metadata": {},
     "output_type": "execute_result"
    }
   ],
   "source": [
    "df10.columns"
   ]
  },
  {
   "cell_type": "code",
   "execution_count": 92,
   "id": "41d0e023",
   "metadata": {
    "collapsed": true,
    "scrolled": true
   },
   "outputs": [],
   "source": [
    "df10.rename(columns={\"RECEIVED_DATE\": \"CASE_SUBMITTED\",\"EMPLOYER_ADDRESS1\":\"EMPLOYER_ADDRESS\",\"SOC_TITLE\":\"SOC_NAME\",\"H-1B_DEPENDENT\":\"H1B_DEPENDENT\"},inplace=True)"
   ]
  },
  {
   "cell_type": "code",
   "execution_count": 93,
   "id": "3e5e073e",
   "metadata": {
    "collapsed": true,
    "scrolled": true
   },
   "outputs": [],
   "source": [
    "df10 = df10[['Transformed_wage_rate_of_pay_from', 'transformed_pw_wage', 'CASE_NUMBER', 'CASE_STATUS', 'CASE_SUBMITTED', 'DECISION_DATE', 'VISA_CLASS', 'EMPLOYER_NAME', 'EMPLOYER_ADDRESS', 'EMPLOYER_CITY', 'EMPLOYER_STATE', 'EMPLOYER_POSTAL_CODE', 'JOB_TITLE', 'SOC_CODE', 'SOC_NAME', 'NAICS_CODE', 'FULL_TIME_POSITION', 'PREVAILING_WAGE', 'PW_UNIT_OF_PAY', 'PW_WAGE_LEVEL', 'WAGE_RATE_OF_PAY_FROM', 'WAGE_UNIT_OF_PAY', 'H1B_DEPENDENT']]"
   ]
  },
  {
   "cell_type": "code",
   "execution_count": 94,
   "id": "edcc29ab",
   "metadata": {
    "collapsed": true,
    "scrolled": true
   },
   "outputs": [
    {
     "data": {
      "text/plain": [
       "array([ True,  True,  True,  True,  True,  True,  True,  True,  True,\n",
       "        True,  True,  True,  True,  True,  True,  True,  True,  True,\n",
       "        True,  True,  True,  True,  True])"
      ]
     },
     "execution_count": 94,
     "metadata": {},
     "output_type": "execute_result"
    }
   ],
   "source": [
    "df1.columns==df10.columns"
   ]
  },
  {
   "cell_type": "markdown",
   "id": "0ad70be7",
   "metadata": {},
   "source": [
    "# Merging all dataframes"
   ]
  },
  {
   "cell_type": "code",
   "execution_count": 96,
   "id": "bbda173e",
   "metadata": {
    "collapsed": true,
    "scrolled": false
   },
   "outputs": [
    {
     "data": {
      "text/html": [
       "<div>\n",
       "<style scoped>\n",
       "    .dataframe tbody tr th:only-of-type {\n",
       "        vertical-align: middle;\n",
       "    }\n",
       "\n",
       "    .dataframe tbody tr th {\n",
       "        vertical-align: top;\n",
       "    }\n",
       "\n",
       "    .dataframe thead th {\n",
       "        text-align: right;\n",
       "    }\n",
       "</style>\n",
       "<table border=\"1\" class=\"dataframe\">\n",
       "  <thead>\n",
       "    <tr style=\"text-align: right;\">\n",
       "      <th></th>\n",
       "      <th>Transformed_wage_rate_of_pay_from</th>\n",
       "      <th>transformed_pw_wage</th>\n",
       "      <th>CASE_NUMBER</th>\n",
       "      <th>CASE_STATUS</th>\n",
       "      <th>CASE_SUBMITTED</th>\n",
       "      <th>DECISION_DATE</th>\n",
       "      <th>VISA_CLASS</th>\n",
       "      <th>EMPLOYER_NAME</th>\n",
       "      <th>EMPLOYER_ADDRESS</th>\n",
       "      <th>EMPLOYER_CITY</th>\n",
       "      <th>...</th>\n",
       "      <th>SOC_CODE</th>\n",
       "      <th>SOC_NAME</th>\n",
       "      <th>NAICS_CODE</th>\n",
       "      <th>FULL_TIME_POSITION</th>\n",
       "      <th>PREVAILING_WAGE</th>\n",
       "      <th>PW_UNIT_OF_PAY</th>\n",
       "      <th>PW_WAGE_LEVEL</th>\n",
       "      <th>WAGE_RATE_OF_PAY_FROM</th>\n",
       "      <th>WAGE_UNIT_OF_PAY</th>\n",
       "      <th>H1B_DEPENDENT</th>\n",
       "    </tr>\n",
       "  </thead>\n",
       "  <tbody>\n",
       "    <tr>\n",
       "      <th>0</th>\n",
       "      <td>143915.0</td>\n",
       "      <td>112549.0</td>\n",
       "      <td>I-200-18026-338377</td>\n",
       "      <td>certified</td>\n",
       "      <td>29-01-2018</td>\n",
       "      <td>02-02-2018</td>\n",
       "      <td>H-1B</td>\n",
       "      <td>microsoft corporation</td>\n",
       "      <td>1 microsoft way</td>\n",
       "      <td>redmond</td>\n",
       "      <td>...</td>\n",
       "      <td>15-1132</td>\n",
       "      <td>software developers, applications</td>\n",
       "      <td>51121.0</td>\n",
       "      <td>Y</td>\n",
       "      <td>112549.0</td>\n",
       "      <td>Year</td>\n",
       "      <td>Level II</td>\n",
       "      <td>143915.0</td>\n",
       "      <td>Year</td>\n",
       "      <td>N</td>\n",
       "    </tr>\n",
       "    <tr>\n",
       "      <th>1</th>\n",
       "      <td>100000.0</td>\n",
       "      <td>79976.0</td>\n",
       "      <td>I-200-17296-353451</td>\n",
       "      <td>certified</td>\n",
       "      <td>23-10-2017</td>\n",
       "      <td>27-10-2017</td>\n",
       "      <td>H-1B</td>\n",
       "      <td>ernst &amp; young u.s. llp</td>\n",
       "      <td>200 plaza drive</td>\n",
       "      <td>secaucus</td>\n",
       "      <td>...</td>\n",
       "      <td>13-2011</td>\n",
       "      <td>accountants and auditors</td>\n",
       "      <td>541211.0</td>\n",
       "      <td>Y</td>\n",
       "      <td>79976.0</td>\n",
       "      <td>Year</td>\n",
       "      <td>Level II</td>\n",
       "      <td>100000.0</td>\n",
       "      <td>Year</td>\n",
       "      <td>N</td>\n",
       "    </tr>\n",
       "    <tr>\n",
       "      <th>2</th>\n",
       "      <td>78240.0</td>\n",
       "      <td>77792.0</td>\n",
       "      <td>I-200-18242-524477</td>\n",
       "      <td>certified</td>\n",
       "      <td>30-08-2018</td>\n",
       "      <td>06-09-2018</td>\n",
       "      <td>H-1B</td>\n",
       "      <td>logixhub llc</td>\n",
       "      <td>320 decker drive</td>\n",
       "      <td>irving</td>\n",
       "      <td>...</td>\n",
       "      <td>15-1141</td>\n",
       "      <td>database administrators</td>\n",
       "      <td>541511.0</td>\n",
       "      <td>Y</td>\n",
       "      <td>77792.0</td>\n",
       "      <td>Year</td>\n",
       "      <td>Level II</td>\n",
       "      <td>78240.0</td>\n",
       "      <td>Year</td>\n",
       "      <td>N</td>\n",
       "    </tr>\n",
       "    <tr>\n",
       "      <th>3</th>\n",
       "      <td>84406.0</td>\n",
       "      <td>84406.0</td>\n",
       "      <td>I-200-18070-575236</td>\n",
       "      <td>certified</td>\n",
       "      <td>NaN</td>\n",
       "      <td>30-03-2018</td>\n",
       "      <td>H-1B</td>\n",
       "      <td>hexaware technologies, inc.</td>\n",
       "      <td>101 wood avenue south</td>\n",
       "      <td>iselin</td>\n",
       "      <td>...</td>\n",
       "      <td>15-1132</td>\n",
       "      <td>software developers, applications</td>\n",
       "      <td>541511.0</td>\n",
       "      <td>Y</td>\n",
       "      <td>84406.0</td>\n",
       "      <td>Year</td>\n",
       "      <td>Level II</td>\n",
       "      <td>84406.0</td>\n",
       "      <td>Year</td>\n",
       "      <td>Y</td>\n",
       "    </tr>\n",
       "    <tr>\n",
       "      <th>4</th>\n",
       "      <td>95000.0</td>\n",
       "      <td>87714.0</td>\n",
       "      <td>I-200-18243-850522</td>\n",
       "      <td>certified</td>\n",
       "      <td>31-08-2018</td>\n",
       "      <td>07-09-2018</td>\n",
       "      <td>H-1B</td>\n",
       "      <td>ecloud labs,inc.</td>\n",
       "      <td>120 s wood avenue</td>\n",
       "      <td>iselin</td>\n",
       "      <td>...</td>\n",
       "      <td>15-1132</td>\n",
       "      <td>software developers, applications</td>\n",
       "      <td>541511.0</td>\n",
       "      <td>Y</td>\n",
       "      <td>87714.0</td>\n",
       "      <td>Year</td>\n",
       "      <td>Level III</td>\n",
       "      <td>95000.0</td>\n",
       "      <td>Year</td>\n",
       "      <td>Y</td>\n",
       "    </tr>\n",
       "  </tbody>\n",
       "</table>\n",
       "<p>5 rows × 23 columns</p>\n",
       "</div>"
      ],
      "text/plain": [
       "   Transformed_wage_rate_of_pay_from  transformed_pw_wage         CASE_NUMBER  \\\n",
       "0                           143915.0             112549.0  I-200-18026-338377   \n",
       "1                           100000.0              79976.0  I-200-17296-353451   \n",
       "2                            78240.0              77792.0  I-200-18242-524477   \n",
       "3                            84406.0              84406.0  I-200-18070-575236   \n",
       "4                            95000.0              87714.0  I-200-18243-850522   \n",
       "\n",
       "  CASE_STATUS CASE_SUBMITTED DECISION_DATE VISA_CLASS  \\\n",
       "0   certified     29-01-2018    02-02-2018       H-1B   \n",
       "1   certified     23-10-2017    27-10-2017       H-1B   \n",
       "2   certified     30-08-2018    06-09-2018       H-1B   \n",
       "3   certified            NaN    30-03-2018       H-1B   \n",
       "4   certified     31-08-2018    07-09-2018       H-1B   \n",
       "\n",
       "                 EMPLOYER_NAME       EMPLOYER_ADDRESS EMPLOYER_CITY  ...  \\\n",
       "0        microsoft corporation        1 microsoft way       redmond  ...   \n",
       "1       ernst & young u.s. llp        200 plaza drive      secaucus  ...   \n",
       "2                 logixhub llc       320 decker drive        irving  ...   \n",
       "3  hexaware technologies, inc.  101 wood avenue south        iselin  ...   \n",
       "4             ecloud labs,inc.      120 s wood avenue        iselin  ...   \n",
       "\n",
       "  SOC_CODE                           SOC_NAME NAICS_CODE FULL_TIME_POSITION  \\\n",
       "0  15-1132  software developers, applications    51121.0                  Y   \n",
       "1  13-2011           accountants and auditors   541211.0                  Y   \n",
       "2  15-1141            database administrators   541511.0                  Y   \n",
       "3  15-1132  software developers, applications   541511.0                  Y   \n",
       "4  15-1132  software developers, applications   541511.0                  Y   \n",
       "\n",
       "  PREVAILING_WAGE  PW_UNIT_OF_PAY PW_WAGE_LEVEL  WAGE_RATE_OF_PAY_FROM  \\\n",
       "0        112549.0            Year      Level II               143915.0   \n",
       "1         79976.0            Year      Level II               100000.0   \n",
       "2         77792.0            Year      Level II                78240.0   \n",
       "3         84406.0            Year      Level II                84406.0   \n",
       "4         87714.0            Year     Level III                95000.0   \n",
       "\n",
       "  WAGE_UNIT_OF_PAY H1B_DEPENDENT  \n",
       "0             Year             N  \n",
       "1             Year             N  \n",
       "2             Year             N  \n",
       "3             Year             Y  \n",
       "4             Year             Y  \n",
       "\n",
       "[5 rows x 23 columns]"
      ]
     },
     "execution_count": 96,
     "metadata": {},
     "output_type": "execute_result"
    }
   ],
   "source": [
    "df1.head()"
   ]
  },
  {
   "cell_type": "code",
   "execution_count": 98,
   "id": "b45e6691",
   "metadata": {
    "collapsed": true,
    "scrolled": true
   },
   "outputs": [],
   "source": [
    "df_final = pd.concat([df1,df2,df3,df4,df5,df6,df7,df8,df9,df10], axis=0,ignore_index=True)"
   ]
  },
  {
   "cell_type": "code",
   "execution_count": 99,
   "id": "ef283195",
   "metadata": {
    "collapsed": true,
    "scrolled": true
   },
   "outputs": [
    {
     "data": {
      "text/plain": [
       "(2534222, 23)"
      ]
     },
     "execution_count": 99,
     "metadata": {},
     "output_type": "execute_result"
    }
   ],
   "source": [
    "df_final.shape"
   ]
  },
  {
   "cell_type": "code",
   "execution_count": 100,
   "id": "0219cde3",
   "metadata": {
    "collapsed": true,
    "scrolled": true
   },
   "outputs": [],
   "source": [
    "df_final.drop_duplicates(inplace=True)"
   ]
  },
  {
   "cell_type": "code",
   "execution_count": 102,
   "id": "5231a011",
   "metadata": {
    "collapsed": true,
    "scrolled": true
   },
   "outputs": [
    {
     "data": {
      "text/plain": [
       "Transformed_wage_rate_of_pay_from         0\n",
       "transformed_pw_wage                       0\n",
       "CASE_NUMBER                               0\n",
       "CASE_STATUS                               0\n",
       "CASE_SUBMITTED                            1\n",
       "DECISION_DATE                             0\n",
       "VISA_CLASS                                0\n",
       "EMPLOYER_NAME                            32\n",
       "EMPLOYER_ADDRESS                         14\n",
       "EMPLOYER_CITY                            28\n",
       "EMPLOYER_STATE                          122\n",
       "EMPLOYER_POSTAL_CODE                  19109\n",
       "JOB_TITLE                                 7\n",
       "SOC_CODE                                 15\n",
       "SOC_NAME                                 15\n",
       "NAICS_CODE                                8\n",
       "FULL_TIME_POSITION                        6\n",
       "PREVAILING_WAGE                           0\n",
       "PW_UNIT_OF_PAY                           55\n",
       "PW_WAGE_LEVEL                        160908\n",
       "WAGE_RATE_OF_PAY_FROM                     0\n",
       "WAGE_UNIT_OF_PAY                         13\n",
       "H1B_DEPENDENT                         60053\n",
       "dtype: int64"
      ]
     },
     "execution_count": 102,
     "metadata": {},
     "output_type": "execute_result"
    }
   ],
   "source": [
    "df_final.isnull().sum()"
   ]
  },
  {
   "cell_type": "code",
   "execution_count": 103,
   "id": "2e6c51be",
   "metadata": {
    "collapsed": true,
    "scrolled": true
   },
   "outputs": [],
   "source": [
    "df_final.to_csv('final_cleaned.csv',index=False)"
   ]
  }
 ],
 "metadata": {
  "kernelspec": {
   "display_name": "Python 3 (ipykernel)",
   "language": "python",
   "name": "python3"
  },
  "language_info": {
   "codemirror_mode": {
    "name": "ipython",
    "version": 3
   },
   "file_extension": ".py",
   "mimetype": "text/x-python",
   "name": "python",
   "nbconvert_exporter": "python",
   "pygments_lexer": "ipython3",
   "version": "3.9.6"
  }
 },
 "nbformat": 4,
 "nbformat_minor": 5
}
